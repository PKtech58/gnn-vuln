{
 "cells": [
  {
   "cell_type": "code",
   "execution_count": 1,
   "id": "eef61f10",
   "metadata": {},
   "outputs": [
    {
     "name": "stdout",
     "output_type": "stream",
     "text": [
      "Processed 2 input file(s); wrote 70 object(s) → ../data/label.jsonl\n"
     ]
    }
   ],
   "source": [
    "!python ../src/ConvertToJsonlMulti.py ../data/wireshark.jsonl ../data/juliet.jsonl ../data/label.jsonl"
   ]
  },
  {
   "cell_type": "code",
   "execution_count": 2,
   "id": "77839877",
   "metadata": {},
   "outputs": [
    {
     "name": "stdout",
     "output_type": "stream",
     "text": [
      "読み込んだ件数: 70\n",
      "1件目のデータ:\n",
      "{\n",
      "  \"TARGET-CWE-ID\": \"CWE-125\",\n",
      "  \"FLAWS\": \"Out-of-bounds Read\",\n",
      "  \"TEST-ID\": \"501118\",\n",
      "  \"LANGUAGE\": \"C\",\n",
      "  \"STATE\": \"bad\",\n",
      "  \"STATUS\": \"accepted\",\n",
      "  \"OCCURRENCES\": [\n",
      "    {\n",
      "      \"PATH\": \"./wireshark-1.2-buggy/epan/dissectors/packet-bootp.c\",\n",
      "      \"TRIGGER_LINE\": [\n",
      "        3758\n",
      "      ],\n",
      "      \"CWE-ID\": \"CWE-824\",\n",
      "      \"FLAWS\": \"Access of Uninitialized Pointer\"\n",
      "    },\n",
      "    {\n",
      "      \"PATH\": \"./wireshark-1.2-buggy/epan/dissectors/packet-bootp.c\",\n",
      "      \"TRIGGER_LINE\": [\n",
      "        3920,\n",
      "        3921,\n",
      "        3922\n",
      "      ],\n",
      "      \"CWE-ID\": \"CWE-824\",\n",
      "      \"FLAWS\": \"Access of Uninitialized Pointer\"\n",
      "    },\n",
      "    {\n",
      "      \"PATH\": \"./wireshark-1.2-buggy/epan/dissectors/packet-arp.c\",\n",
      "      \"TRIGGER_LINE\": [\n",
      "        192\n",
      "      ],\n",
      "      \"CWE-ID\": null,\n",
      "      \"FLAWS\": null\n",
      "    },\n",
      "    {\n",
      "      \"PATH\": \"./wireshark-1.2-buggy/epan/strutil.c\",\n",
      "      \"TRIGGER_LINE\": [\n",
      "        396,\n",
      "        397\n",
      "      ],\n",
      "      \"CWE-ID\": \"CWE-824\",\n",
      "      \"FLAWS\": \"Access of Uninitialized Pointer\"\n",
      "    },\n",
      "    {\n",
      "      \"PATH\": \"./wireshark-1.2-buggy/epan/strutil.c\",\n",
      "      \"TRIGGER_LINE\": [\n",
      "        396,\n",
      "        397\n",
      "      ],\n",
      "      \"CWE-ID\": \"CWE-125\",\n",
      "      \"FLAWS\": \"Out-of-bounds Read\"\n",
      "    }\n",
      "  ]\n",
      "}\n",
      "\n",
      "TARGET-CWE-IDごとの件数:\n",
      "CWE-125: 5\n",
      "CWE-416: 5\n",
      "CWE-119: 6\n",
      "CWE-476: 27\n",
      "CWE-190: 27\n"
     ]
    }
   ],
   "source": [
    "import json\n",
    "\n",
    "# JSONLファイルのパス\n",
    "jsonl_path = \"../data/label.jsonl\"\n",
    "\n",
    "# 読み込み\n",
    "records = []\n",
    "with open(jsonl_path, \"r\", encoding=\"utf-8\") as f:\n",
    "    for line in f:\n",
    "        line = line.strip()\n",
    "        if not line:\n",
    "            continue  # 空行はスキップ\n",
    "        try:\n",
    "            obj = json.loads(line)\n",
    "            records.append(obj)\n",
    "        except json.JSONDecodeError as e:\n",
    "            print(f\"JSONデコードエラー: {e}\")\n",
    "            print(f\"問題の行: {line}\")\n",
    "\n",
    "# 確認\n",
    "print(f\"読み込んだ件数: {len(records)}\")\n",
    "print(\"1件目のデータ:\")\n",
    "print(json.dumps(records[0], indent=2, ensure_ascii=False))\n",
    "\n",
    "# 例: CWE-IDごとの件数を集計\n",
    "from collections import Counter\n",
    "cwe_counts = Counter([rec.get(\"TARGET-CWE-ID\") for rec in records])\n",
    "print(\"\\nTARGET-CWE-IDごとの件数:\")\n",
    "for cwe, count in cwe_counts.items():\n",
    "    print(f\"{cwe}: {count}\")"
   ]
  }
 ],
 "metadata": {
  "kernelspec": {
   "display_name": "gnn_vuln",
   "language": "python",
   "name": "python3"
  },
  "language_info": {
   "codemirror_mode": {
    "name": "ipython",
    "version": 3
   },
   "file_extension": ".py",
   "mimetype": "text/x-python",
   "name": "python",
   "nbconvert_exporter": "python",
   "pygments_lexer": "ipython3",
   "version": "3.10.18"
  }
 },
 "nbformat": 4,
 "nbformat_minor": 5
}
