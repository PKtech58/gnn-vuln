{
 "cells": [
  {
   "cell_type": "code",
   "execution_count": 1,
   "id": "ab7ac07e",
   "metadata": {},
   "outputs": [],
   "source": [
    "#!python ../src/llvm_ir_data_extractor_state_aware.py --jsonl ../data/label_taxonomy.jsonl --llvm-dir ../data/out_dir/taxonomy_llvm"
   ]
  },
  {
   "cell_type": "code",
   "execution_count": 2,
   "id": "54dd1225",
   "metadata": {},
   "outputs": [
    {
     "name": "stderr",
     "output_type": "stream",
     "text": [
      "2025-08-29 20:10:07,880 - INFO - 🚀 GNN脆弱性検出フレームワーク開始\n",
      "2025-08-29 20:10:07,880 - INFO - 📋 設定: mode=train, approach=CWE-119\n",
      "2025-08-29 20:10:07,880 - INFO - 📂 データ: ./state_aware_vulnerability_dataset.json\n",
      "2025-08-29 20:10:07,880 - INFO - 📁 出力: ../result\n",
      "2025-08-29 20:10:07,880 - INFO - 🎯 データセット初期化: approach=CWE-119, classes=1\n",
      "2025-08-29 20:10:07,880 - INFO - 📂 データ読み込み開始: ./state_aware_vulnerability_dataset.json\n",
      "2025-08-29 20:10:07,885 - INFO - 📊 データセット要素数: 328\n",
      "2025-08-29 20:10:07,887 - INFO - ✅ 処理完了: 328件成功, 0件エラー\n",
      "2025-08-29 20:10:07,887 - INFO - 📁 ファイル数: 32\n",
      "2025-08-29 20:10:07,887 - INFO - 📊 ファイルマッピング統計:\n",
      "2025-08-29 20:10:07,887 - INFO -    総ファイル数: 32\n",
      "2025-08-29 20:10:07,887 - INFO -    basic-00002-large.c: 12 items\n",
      "2025-08-29 20:10:07,889 - INFO -    basic-00002-med.c: 12 items\n",
      "2025-08-29 20:10:07,889 - INFO -    basic-00002-min.c: 12 items\n",
      "2025-08-29 20:10:07,889 - INFO -    basic-00002-ok.c: 12 items\n",
      "2025-08-29 20:10:07,889 - INFO -    basic-00001-med.c: 10 items\n",
      "2025-08-29 20:10:07,889 - INFO -    ... 他 27 ファイル\n",
      "2025-08-29 20:10:07,889 - INFO - 🔧 グラフ構築開始: 32 files\n",
      "2025-08-29 20:10:07,901 - INFO - ✅ グラフ構築完了: 32 graphs\n",
      "2025-08-29 20:10:07,901 - INFO - 🚀 トレーナー初期化: approach=CWE-119, device=cpu\n",
      "2025-08-29 20:10:07,917 - INFO - 📊 3分割結果: Train=18, Val=7, Test=7\n",
      "2025-08-29 20:10:07,917 - INFO - 🚀 学習開始: Train=18, Val=7\n",
      "2025-08-29 20:10:08,034 - INFO - 🔧 モデル構成: 1クラス, デバイス: cpu\n",
      "2025-08-29 20:10:08,034 - INFO - 🚀 学習開始: 50エポック\n",
      "2025-08-29 20:10:08,559 - INFO -   Epoch 10/50: Train Loss=0.5191, Val Loss=0.9334, Val Acc=0.8286\n",
      "2025-08-29 20:10:09,067 - INFO -   Epoch 20/50: Train Loss=0.7879, Val Loss=2.2793, Val Acc=0.5786\n",
      "2025-08-29 20:10:09,584 - INFO -   Epoch 30/50: Train Loss=0.2711, Val Loss=0.5825, Val Acc=0.8857\n",
      "2025-08-29 20:10:10,118 - INFO -   Epoch 40/50: Train Loss=0.1920, Val Loss=0.3863, Val Acc=0.9286\n",
      "2025-08-29 20:10:10,654 - INFO -   Epoch 50/50: Train Loss=1.7397, Val Loss=7.4071, Val Acc=0.5714\n",
      "2025-08-29 20:10:10,654 - INFO - ✅ 学習完了!\n",
      "2025-08-29 20:10:10,668 - INFO - 💾 結果保存: ../result\\training_results.json, ../result\\training_results.csv\n",
      "2025-08-29 20:10:10,673 - INFO - 💾 モデル保存: ../result\\vulnerability_model_CWE-119.pth\n",
      "2025-08-29 20:10:10,673 - INFO - \n",
      "🔄 学習後のテストデータ評価を開始...\n",
      "2025-08-29 20:10:10,673 - INFO - 🎯 テストデータ評価開始 (7グラフ)\n",
      "2025-08-29 20:10:10,684 - INFO - \n",
      "📊 テストデータ評価結果:\n",
      "2025-08-29 20:10:10,684 - INFO -    テスト損失: 8.7800\n",
      "2025-08-29 20:10:10,691 - INFO -    CWE-119: Acc=0.143, P=0.000, R=0.000, F1=0.000\n",
      "2025-08-29 20:10:10,691 - INFO -    CWE-119 (Trigger): Acc=0.829, P=0.000, R=0.000, F1=0.000\n",
      "2025-08-29 20:10:10,693 - INFO - \n",
      "                   CWE-119 混同行列:\n",
      "2025-08-29 20:10:10,693 - INFO -    TN=10, FP=0\n",
      "2025-08-29 20:10:10,693 - INFO -    FN=60, TP=0\n",
      "2025-08-29 20:10:10,694 - INFO - 💾 結果保存: ../result\\test_evaluation_results.json, ../result\\test_evaluation_results.csv\n",
      "2025-08-29 20:10:10,694 - INFO - 💾 テスト評価結果を保存: ../result\n",
      "2025-08-29 20:10:10,694 - INFO - ✅ テストデータ評価完了!\n",
      "2025-08-29 20:10:10,694 - INFO - 🎉 全処理が完了しました!\n"
     ]
    }
   ],
   "source": [
    "!python ../src/GnnFramework_MultiLabel_CWE.py --data-path ./state_aware_vulnerability_dataset.json --approach CWE-119 --mode train --output-dir ../result"
   ]
  }
 ],
 "metadata": {
  "kernelspec": {
   "display_name": "gnn_vuln",
   "language": "python",
   "name": "python3"
  },
  "language_info": {
   "codemirror_mode": {
    "name": "ipython",
    "version": 3
   },
   "file_extension": ".py",
   "mimetype": "text/x-python",
   "name": "python",
   "nbconvert_exporter": "python",
   "pygments_lexer": "ipython3",
   "version": "3.10.18"
  }
 },
 "nbformat": 4,
 "nbformat_minor": 5
}
