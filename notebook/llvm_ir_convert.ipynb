{
 "cells": [
  {
   "cell_type": "code",
   "execution_count": null,
   "id": "b34e4451",
   "metadata": {},
   "outputs": [],
   "source": [
    "import json, shlex, subprocess, os\n",
    "from pathlib import Path\n",
    "\n",
    "# ==== 設定（環境に合わせてここだけ直す）====\n",
    "jsonl_path = \"../data/label_taxonomy.jsonl\"\n",
    "base_dir   = \"../data/2014-06-08-a-taxonomy-of-buffer-overflows\"\n",
    "out_dir    = \"../out_ir/taxonomy_bc\"\n",
    "\n",
    "# clang の場所（Windowsなら例: r\"C:\\Program Files\\LLVM\\bin\\clang.exe\"）\n",
    "CLANG   = os.environ.get(\"CLANG\",   \"clang\")\n",
    "CLANGXX = os.environ.get(\"CLANGXX\", \"clang++\")"
   ]
  }
 ],
 "metadata": {
  "language_info": {
   "name": "python"
  }
 },
 "nbformat": 4,
 "nbformat_minor": 5
}
